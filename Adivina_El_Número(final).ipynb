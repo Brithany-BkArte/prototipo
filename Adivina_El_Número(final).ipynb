{
  "nbformat": 4,
  "nbformat_minor": 0,
  "metadata": {
    "colab": {
      "provenance": [],
      "authorship_tag": "ABX9TyOnlM2SsWp0VftrOwYBK0dd",
      "include_colab_link": true
    },
    "kernelspec": {
      "name": "python3",
      "display_name": "Python 3"
    },
    "language_info": {
      "name": "python"
    }
  },
  "cells": [
    {
      "cell_type": "markdown",
      "metadata": {
        "id": "view-in-github",
        "colab_type": "text"
      },
      "source": [
        "<a href=\"https://colab.research.google.com/github/Brithany-BkArte/prototipo/blob/main/Adivina_El_N%C3%BAmero(final).ipynb\" target=\"_parent\"><img src=\"https://colab.research.google.com/assets/colab-badge.svg\" alt=\"Open In Colab\"/></a>"
      ]
    },
    {
      "cell_type": "code",
      "source": [
        "import random\n",
        "\n",
        "def intro():\n",
        "    print(\"*\" * 40)\n",
        "    print(\" \" * 12 + \"ADIVINA EL NÚMERO\" + \" \" * 12)\n",
        "    print(\"*\" * 40)\n",
        "\n",
        "def juega():\n",
        "    num_aleatorio = random.randint(1, 50)\n",
        "    intentos = 0\n",
        "\n",
        "    while True:\n",
        "        entrada = input(\"Ingresa un número entre 1 y 50: \")\n",
        "\n",
        "        if not entrada.isdigit():\n",
        "            print(\"El número intresado No es válido. Fin del Juego :(\")\n",
        "            break\n",
        "\n",
        "        num_usuario = int(entrada)\n",
        "\n",
        "        if num_usuario > 50:\n",
        "            print(\" El número intresado No es válido. Fin del Juego :(.\")\n",
        "            break\n",
        "\n",
        "        intentos += 1\n",
        "        if num_usuario > num_aleatorio:\n",
        "            print(\"🔺 El número ingresado es mayor al número misterioso.\")\n",
        "        elif num_usuario < num_aleatorio:\n",
        "            print(\"🔻 El número ingresado es menor al número misterioso.\")\n",
        "        else:\n",
        "            print(f\"\\n🎉 ¡FELICIDADES! El número era {num_aleatorio}.\")\n",
        "            break\n",
        "\n",
        "    lista = [intentos]\n",
        "    print(\"Lo adivinaste en el intento número: \")\n",
        "    return lista\n",
        "\n",
        "intro()\n",
        "juega()"
      ],
      "metadata": {
        "id": "K0FgoAh9iD9w",
        "colab": {
          "base_uri": "https://localhost:8080/",
          "height": 106
        },
        "outputId": "33490e59-b213-498e-a3bc-c41b7908049b"
      },
      "execution_count": null,
      "outputs": [
        {
          "output_type": "error",
          "ename": "SyntaxError",
          "evalue": "unterminated string literal (detected at line 4) (ipython-input-1-3264454476.py, line 4)",
          "traceback": [
            "\u001b[0;36m  File \u001b[0;32m\"/tmp/ipython-input-1-3264454476.py\"\u001b[0;36m, line \u001b[0;32m4\u001b[0m\n\u001b[0;31m    print(\"🔻 El núimport random\u001b[0m\n\u001b[0m          ^\u001b[0m\n\u001b[0;31mSyntaxError\u001b[0m\u001b[0;31m:\u001b[0m unterminated string literal (detected at line 4)\n"
          ]
        }
      ]
    },
    {
      "cell_type": "code",
      "source": [
        "from google.colab import drive\n",
        "drive.mount('/content/drive')"
      ],
      "metadata": {
        "id": "JOoVvsNJG6nb"
      },
      "execution_count": null,
      "outputs": []
    },
    {
      "cell_type": "markdown",
      "metadata": {
        "id": "32ac4292"
      },
      "source": [
        "# Task\n",
        "Explain how to upload code to GitHub."
      ]
    },
    {
      "cell_type": "markdown",
      "metadata": {
        "id": "12698460"
      },
      "source": [
        "## Create a github repository\n",
        "\n",
        "### Subtask:\n",
        "Create a new repository on GitHub to store your code.\n"
      ]
    },
    {
      "cell_type": "markdown",
      "metadata": {
        "id": "b978a5c0"
      },
      "source": [
        "## Install git\n",
        "\n",
        "### Subtask:\n",
        "If you don't have Git installed on your system, download and install it.\n"
      ]
    }
  ]
}