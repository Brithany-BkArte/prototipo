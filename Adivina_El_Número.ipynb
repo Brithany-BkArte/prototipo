{
  "nbformat": 4,
  "nbformat_minor": 0,
  "metadata": {
    "colab": {
      "provenance": [],
      "authorship_tag": "ABX9TyMO0IZwZfQQQQmo0xNtAxl7",
      "include_colab_link": true
    },
    "kernelspec": {
      "name": "python3",
      "display_name": "Python 3"
    },
    "language_info": {
      "name": "python"
    }
  },
  "cells": [
    {
      "cell_type": "markdown",
      "metadata": {
        "id": "view-in-github",
        "colab_type": "text"
      },
      "source": [
        "<a href=\"https://colab.research.google.com/github/Brithany-BkArte/prototipo/blob/main/Adivina_El_N%C3%BAmero.ipynb\" target=\"_parent\"><img src=\"https://colab.research.google.com/assets/colab-badge.svg\" alt=\"Open In Colab\"/></a>"
      ]
    },
    {
      "cell_type": "code",
      "source": [
        "import random\n",
        "\n",
        "def intro():\n",
        "    print(\"*\" * 40)\n",
        "    print(\" \" * 12 + \"ADIVINA EL NÚMERO\" + \" \" * 12)\n",
        "    print(\"*\" * 40)\n",
        "\n",
        "def juega():\n",
        "    num_aleatorio = random.randint(1, 50)\n",
        "    intentos = 0\n",
        "\n",
        "    while True:\n",
        "        entrada = input(\"Ingresa un número entre 1 y 50: \")\n",
        "\n",
        "        if not entrada.isdigit():\n",
        "            print(\"El número intresado No es válido. Fin del Juego :(\")\n",
        "            break\n",
        "\n",
        "        num_usuario = int(entrada)\n",
        "\n",
        "        if num_usuario > 50:\n",
        "            print(\" El número intresado No es válido. Fin del Juego :(.\")\n",
        "            break\n",
        "\n",
        "        intentos += 1\n",
        "\n",
        "        if num_usuario > num_aleatorio:\n",
        "            print(\"🔺 El número ingresado es mayor al número misterioso.\")\n",
        "        elif num_usuario < num_aleatorio:\n",
        "            print(\"🔻 El número ingresado es menor al número misterioso.\")\n",
        "        else:\n",
        "            print(f\"\\n🎉 ¡FELICIDADES! El número era {num_aleatorio}.\")\n",
        "            print(f\" Lo adivinaste en {intentos} intento(s).\")\n",
        "            break\n",
        "\n",
        "intro()\n",
        "juega()\n"
      ],
      "metadata": {
        "id": "K0FgoAh9iD9w"
      },
      "execution_count": null,
      "outputs": []
    }
  ]
}